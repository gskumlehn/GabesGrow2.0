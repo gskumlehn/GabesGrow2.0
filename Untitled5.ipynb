{
  "nbformat": 4,
  "nbformat_minor": 0,
  "metadata": {
    "colab": {
      "provenance": [],
      "authorship_tag": "ABX9TyMDyUwJF/7uOb/ZteWX5wYG",
      "include_colab_link": true
    },
    "kernelspec": {
      "name": "python3",
      "display_name": "Python 3"
    },
    "language_info": {
      "name": "python"
    }
  },
  "cells": [
    {
      "cell_type": "markdown",
      "metadata": {
        "id": "view-in-github",
        "colab_type": "text"
      },
      "source": [
        "<a href=\"https://colab.research.google.com/github/gskumlehn/GabesGrow2.0/blob/master/Untitled5.ipynb\" target=\"_parent\"><img src=\"https://colab.research.google.com/assets/colab-badge.svg\" alt=\"Open In Colab\"/></a>"
      ]
    },
    {
      "cell_type": "markdown",
      "source": [
        "Considerando que o chatgpt possui alguns erros ao analisar tabelas do excel propoe-se utilizar uma IA mais efetiva para o serviço.\n",
        "\n",
        "A NotebookLM utiliza dados e referencia apenas do que lhe é alimentado, impossibilitando desinformações que podem ocorrer no ChatGPT\n",
        "\n",
        "https://notebooklm.google.com/\n",
        "\n",
        "Como ele não aceita a inserção de arquivos do excel faz-se necessária a conversão para markdown. Segue o passo a passo para a conversão\n"
      ],
      "metadata": {
        "id": "BNsbP2oJ6xjE"
      }
    },
    {
      "cell_type": "markdown",
      "source": [
        "Caso não exista a pasta spreadsheats, rodar:"
      ],
      "metadata": {
        "id": "6g7Gvcja6QSD"
      }
    },
    {
      "cell_type": "code",
      "source": [
        "!mkdir spreadsheets"
      ],
      "metadata": {
        "colab": {
          "base_uri": "https://localhost:8080/"
        },
        "id": "XxhvLipf3XE9",
        "outputId": "a4985659-9176-4922-a6b8-cf814e11da3e"
      },
      "execution_count": 7,
      "outputs": [
        {
          "output_type": "stream",
          "name": "stdout",
          "text": [
            "mkdir: cannot create directory ‘spreadsheets’: File exists\n"
          ]
        }
      ]
    },
    {
      "cell_type": "markdown",
      "source": [
        "Adicionar todas as tabelas excel que quer transformar, ao rodar célula abaixo todos os arquivos serão listados"
      ],
      "metadata": {
        "id": "kQuNOkMQ6aBs"
      }
    },
    {
      "cell_type": "code",
      "source": [
        "from os import listdir\n",
        "for spreadsheet in listdir(\"spreadsheets\"):\n",
        "  print(spreadsheet)"
      ],
      "metadata": {
        "colab": {
          "base_uri": "https://localhost:8080/"
        },
        "id": "7P7M5cHh3kub",
        "outputId": "f16e129e-ddca-4b01-e8af-a182f4e9483f"
      },
      "execution_count": 6,
      "outputs": [
        {
          "output_type": "stream",
          "name": "stdout",
          "text": [
            "tic_kids_online_brasil_2024_criancas_tabela_proporcao_v1.2.xlsx\n",
            "tic_kids_online_brasil_2022_criancas_tabela_proporcao_v1.0.xlsx\n",
            "tic_kids_online_brasil_2021_pais_tabela_proporcao_v1.0.xlsx\n",
            "tic_kids_online_brasil_2021_criancas_tabela_proporcao_v1.0.xlsx\n",
            "tic_kids_online_brasil_2018_criancas_tabela_proporcao_v1.0.xlsx\n",
            "tic_kids_online_brasil_2023_criancas_tabela_proporcao_v1.0.xlsx\n",
            "tic_kids_online_brasil_2018_pais_tabela_proporcao_v1.0.xlsx\n",
            "tic_kids_online_brasil_2019_pais_tabela_proporcao_v1.0.xlsx\n",
            "tic_kids_online_brasil_2019_criancas_tabela_proporcao_v1.0.xlsx\n"
          ]
        }
      ]
    },
    {
      "cell_type": "markdown",
      "source": [
        "Cria a pasta destino markdowns caso não exista"
      ],
      "metadata": {
        "id": "3ncrufc09j8r"
      }
    },
    {
      "cell_type": "code",
      "source": [
        "!mkdir markdowns"
      ],
      "metadata": {
        "id": "RUs2OlNl7583"
      },
      "execution_count": 8,
      "outputs": []
    },
    {
      "cell_type": "markdown",
      "source": [
        "Converte todas as tabelas para markdown"
      ],
      "metadata": {
        "id": "3lqthEXX9p_t"
      }
    },
    {
      "cell_type": "code",
      "execution_count": 14,
      "metadata": {
        "id": "9bVGLK692_Tv"
      },
      "outputs": [],
      "source": [
        "import pandas as pd\n",
        "\n",
        "for spreadsheet in listdir(\"spreadsheets\"):\n",
        "  name = spreadsheet.split(\".\")[0]\n",
        "  df = pd.read_excel(f\"spreadsheets/{spreadsheet}\")\n",
        "  markdown_table = df.to_markdown()\n",
        "\n",
        "  with open(f\"markdowns/{name}.md\", \"w\") as f:\n",
        "    f.write(markdown_table)"
      ]
    },
    {
      "cell_type": "markdown",
      "source": [
        "Cria pasta zipada para download em batelada"
      ],
      "metadata": {
        "id": "z5oGM-A09sDp"
      }
    },
    {
      "cell_type": "code",
      "source": [
        "!zip -r /content/markdowns.zip /content/markdowns/\n"
      ],
      "metadata": {
        "colab": {
          "base_uri": "https://localhost:8080/"
        },
        "id": "uXRmCY-b9XaD",
        "outputId": "d700d067-e1ca-4a97-b8ab-d854d10f33d9"
      },
      "execution_count": 15,
      "outputs": [
        {
          "output_type": "stream",
          "name": "stdout",
          "text": [
            "  adding: content/markdowns/ (stored 0%)\n",
            "  adding: content/markdowns/tic_kids_online_brasil_2023_criancas_tabela_proporcao_v1.md (deflated 86%)\n",
            "  adding: content/markdowns/tic_kids_online_brasil_2021_pais_tabela_proporcao_v1.md (deflated 89%)\n",
            "  adding: content/markdowns/tic_kids_online_brasil_2019_pais_tabela_proporcao_v1.md (deflated 92%)\n",
            "  adding: content/markdowns/tic_kids_online_brasil_2018_criancas_tabela_proporcao_v1.md (deflated 78%)\n",
            "  adding: content/markdowns/tic_kids_online_brasil_2024_criancas_tabela_proporcao_v1.md (deflated 85%)\n",
            "  adding: content/markdowns/tic_kids_online_brasil_2022_criancas_tabela_proporcao_v1.md (deflated 86%)\n",
            "  adding: content/markdowns/tic_kids_online_brasil_2021_criancas_tabela_proporcao_v1.md (deflated 85%)\n",
            "  adding: content/markdowns/tic_kids_online_brasil_2019_criancas_tabela_proporcao_v1.md (deflated 92%)\n",
            "  adding: content/markdowns/tic_kids_online_brasil_2018_pais_tabela_proporcao_v1.md (deflated 86%)\n"
          ]
        }
      ]
    },
    {
      "cell_type": "markdown",
      "source": [
        "Faz o download de todos os arquivos convertidos"
      ],
      "metadata": {
        "id": "Lk-Sc8t29wXC"
      }
    },
    {
      "cell_type": "code",
      "source": [
        "from google.colab import files\n",
        "files.download(\"/content/markdowns.zip\")"
      ],
      "metadata": {
        "colab": {
          "base_uri": "https://localhost:8080/",
          "height": 17
        },
        "id": "M7MEStGf9iNL",
        "outputId": "7fa436d1-c463-4be3-a2e3-36bacd97d6f1"
      },
      "execution_count": 17,
      "outputs": [
        {
          "output_type": "display_data",
          "data": {
            "text/plain": [
              "<IPython.core.display.Javascript object>"
            ],
            "application/javascript": [
              "\n",
              "    async function download(id, filename, size) {\n",
              "      if (!google.colab.kernel.accessAllowed) {\n",
              "        return;\n",
              "      }\n",
              "      const div = document.createElement('div');\n",
              "      const label = document.createElement('label');\n",
              "      label.textContent = `Downloading \"${filename}\": `;\n",
              "      div.appendChild(label);\n",
              "      const progress = document.createElement('progress');\n",
              "      progress.max = size;\n",
              "      div.appendChild(progress);\n",
              "      document.body.appendChild(div);\n",
              "\n",
              "      const buffers = [];\n",
              "      let downloaded = 0;\n",
              "\n",
              "      const channel = await google.colab.kernel.comms.open(id);\n",
              "      // Send a message to notify the kernel that we're ready.\n",
              "      channel.send({})\n",
              "\n",
              "      for await (const message of channel.messages) {\n",
              "        // Send a message to notify the kernel that we're ready.\n",
              "        channel.send({})\n",
              "        if (message.buffers) {\n",
              "          for (const buffer of message.buffers) {\n",
              "            buffers.push(buffer);\n",
              "            downloaded += buffer.byteLength;\n",
              "            progress.value = downloaded;\n",
              "          }\n",
              "        }\n",
              "      }\n",
              "      const blob = new Blob(buffers, {type: 'application/binary'});\n",
              "      const a = document.createElement('a');\n",
              "      a.href = window.URL.createObjectURL(blob);\n",
              "      a.download = filename;\n",
              "      div.appendChild(a);\n",
              "      a.click();\n",
              "      div.remove();\n",
              "    }\n",
              "  "
            ]
          },
          "metadata": {}
        },
        {
          "output_type": "display_data",
          "data": {
            "text/plain": [
              "<IPython.core.display.Javascript object>"
            ],
            "application/javascript": [
              "download(\"download_902e84c6-2c12-405a-bd18-2838d4266e06\", \"markdowns.zip\", 40698)"
            ]
          },
          "metadata": {}
        }
      ]
    }
  ]
}